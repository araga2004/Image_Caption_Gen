{
  "nbformat": 4,
  "nbformat_minor": 0,
  "metadata": {
    "colab": {
      "provenance": [],
      "authorship_tag": "ABX9TyMIZ6GBBIT/wXFe7RTHjfUx",
      "include_colab_link": true
    },
    "kernelspec": {
      "name": "python3",
      "display_name": "Python 3"
    },
    "language_info": {
      "name": "python"
    }
  },
  "cells": [
    {
      "cell_type": "markdown",
      "metadata": {
        "id": "view-in-github",
        "colab_type": "text"
      },
      "source": [
        "<a href=\"https://colab.research.google.com/github/araga2004/Image_Caption_Gen/blob/main/testing_file.ipynb\" target=\"_parent\"><img src=\"https://colab.research.google.com/assets/colab-badge.svg\" alt=\"Open In Colab\"/></a>"
      ]
    },
    {
      "cell_type": "code",
      "source": [
        "from google.colab import drive\n",
        "drive.mount('/content/drive')"
      ],
      "metadata": {
        "colab": {
          "base_uri": "https://localhost:8080/"
        },
        "id": "W9UGrO7jugvF",
        "outputId": "4516f902-d6ed-41b1-ed8b-431792f80642"
      },
      "execution_count": 9,
      "outputs": [
        {
          "output_type": "stream",
          "name": "stdout",
          "text": [
            "Drive already mounted at /content/drive; to attempt to forcibly remount, call drive.mount(\"/content/drive\", force_remount=True).\n"
          ]
        }
      ]
    },
    {
      "cell_type": "code",
      "execution_count": 28,
      "metadata": {
        "colab": {
          "base_uri": "https://localhost:8080/"
        },
        "id": "oCTbxW4CC1Hq",
        "outputId": "c7f6327f-c799-44e8-b5d8-27e7ff9b9fd1"
      },
      "outputs": [
        {
          "output_type": "stream",
          "name": "stdout",
          "text": [
            "Input path to your image (relative to My Drive): /content/drive/My Drive/IMG-20240630-WA0002.jpg\n",
            "File found at: /content/drive/My Drive/IMG-20240630-WA0002.jpg\n",
            "1/1 [==============================] - 2s 2s/step\n",
            "Caption: \n",
            "start man in red shirt is walking down the street\n"
          ]
        }
      ],
      "source": [
        "from keras.applications.xception import Xception, preprocess_input\n",
        "from keras.preprocessing.sequence import pad_sequences\n",
        "from keras.models import load_model\n",
        "from pickle import load\n",
        "from PIL import Image, UnidentifiedImageError\n",
        "import numpy as np\n",
        "import os\n",
        "\n",
        "# Get the image path from user input\n",
        "full_img_path = input(\"Input path to your image (relative to My Drive): \")\n",
        "\n",
        "if not os.path.isfile(full_img_path):\n",
        "    print(f\"ERROR: File not found! Make sure the image path '{full_img_path}' is correct\")\n",
        "else:\n",
        "    print(f\"File found at: {full_img_path}\")\n",
        "\n",
        "    def extract_features(image_path, model):\n",
        "        try:\n",
        "            img = Image.open(image_path)\n",
        "        except FileNotFoundError:\n",
        "            print(f\"ERROR: File not found! Make sure the image path '{image_path}' is correct\")\n",
        "            return None\n",
        "        except UnidentifiedImageError:\n",
        "            print(f\"ERROR: Cannot identify image file! Make sure the image at '{image_path}' is valid\")\n",
        "            return None\n",
        "        except Exception as e:\n",
        "            print(f\"ERROR: An unexpected error occurred while opening the image: {e}\")\n",
        "            return None\n",
        "\n",
        "        if img.mode == 'RGBA':\n",
        "            img = img.convert('RGB')\n",
        "        img = img.resize((299, 299))\n",
        "        img = np.array(img)\n",
        "        img = np.expand_dims(img, axis=0)\n",
        "        img = preprocess_input(img)\n",
        "        feature = model.predict(img)\n",
        "        return feature\n",
        "\n",
        "    def generate_desc(model, tokenizer, photo, max_length):\n",
        "        in_text = 'start'\n",
        "\n",
        "        for _ in range(max_length):\n",
        "            sequence = tokenizer.texts_to_sequences([in_text])[0]\n",
        "            sequence = pad_sequences([sequence], maxlen=max_length)\n",
        "            pred = model.predict([photo, sequence], verbose=0)\n",
        "            pred = np.argmax(pred)\n",
        "\n",
        "            word = word_for_id(pred, tokenizer)\n",
        "            if word is None or word == 'end':\n",
        "                break\n",
        "            in_text += ' ' + word\n",
        "\n",
        "        return in_text\n",
        "\n",
        "    def word_for_id(integer, tokenizer):\n",
        "        for word, index in tokenizer.word_index.items():\n",
        "            if index == integer:\n",
        "                return word\n",
        "        return None\n",
        "\n",
        "    max_length = 32\n",
        "\n",
        "    # Load the tokenizer\n",
        "    with open('/content/drive/My Drive/tokenizer1.p', 'rb') as f:\n",
        "        tokenizer = load(f)\n",
        "\n",
        "    model = load_model('/content/drive/My Drive/model_9.h5')\n",
        "    xception_model = Xception(include_top=False, pooling=\"avg\")\n",
        "\n",
        "    photo = extract_features(full_img_path, xception_model)\n",
        "    if photo is not None:\n",
        "        description = generate_desc(model, tokenizer, photo, max_length)\n",
        "        print(\"Caption: \")\n",
        "        print(description)\n",
        "    else:\n",
        "        print(\"Feature extraction failed.\")\n"
      ]
    },
    {
      "cell_type": "code",
      "source": [
        "# Get the image path from user input\n",
        "import os\n",
        "img_path = input(\"Input path to your image (relative to My Drive): \")\n",
        "full_img_path = os.path.join('/content/drive/My Drive', img_path)\n",
        "print(full_img_path)\n",
        "# Check if the file exists\n",
        "if not os.path.isfile(full_img_path):\n",
        "    print(f\"ERROR: File not found! Make sure the image path '{full_img_path}' is correct\")\n",
        "else:\n",
        "    print(f\"File found at: {full_img_path}\")\n",
        "\n",
        "# Proceed with the rest of the code if the file is found\n"
      ],
      "metadata": {
        "colab": {
          "base_uri": "https://localhost:8080/"
        },
        "id": "C14156Qs0uW5",
        "outputId": "49192f1d-fe84-409d-b4d8-a88146044776"
      },
      "execution_count": 20,
      "outputs": [
        {
          "output_type": "stream",
          "name": "stdout",
          "text": [
            "Input path to your image (relative to My Drive): /99171998_7cc800ceef.jpg\n",
            "/99171998_7cc800ceef.jpg\n",
            "ERROR: File not found! Make sure the image path '/99171998_7cc800ceef.jpg' is correct\n"
          ]
        }
      ]
    }
  ]
}